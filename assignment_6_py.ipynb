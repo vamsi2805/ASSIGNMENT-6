{
  "nbformat": 4,
  "nbformat_minor": 0,
  "metadata": {
    "colab": {
      "name": "assignment 6.py",
      "provenance": [],
      "collapsed_sections": [],
      "authorship_tag": "ABX9TyM3K0a1TyQPD3Wik+s+Zjpj",
      "include_colab_link": true
    },
    "kernelspec": {
      "name": "python3",
      "display_name": "Python 3"
    }
  },
  "cells": [
    {
      "cell_type": "markdown",
      "metadata": {
        "id": "view-in-github",
        "colab_type": "text"
      },
      "source": [
        "<a href=\"https://colab.research.google.com/github/vamsi2805/ASSIGNMENT-6/blob/master/assignment_6_py.ipynb\" target=\"_parent\"><img src=\"https://colab.research.google.com/assets/colab-badge.svg\" alt=\"Open In Colab\"/></a>"
      ]
    },
    {
      "cell_type": "code",
      "metadata": {
        "id": "oY6l5PmHxmND",
        "colab_type": "code",
        "colab": {}
      },
      "source": [
        "1. Convert Binary number to decimal \n"
      ],
      "execution_count": null,
      "outputs": []
    },
    {
      "cell_type": "code",
      "metadata": {
        "id": "NTbZa_MXx3fJ",
        "colab_type": "code",
        "colab": {
          "base_uri": "https://localhost:8080/",
          "height": 51
        },
        "outputId": "abf8415f-fef8-4168-fe7d-43d751d89e25"
      },
      "source": [
        "num=int(input(\"Enter binary value of a number: \"))\n",
        "decimal=0\n",
        "base_value=1\n",
        "temp=num\n",
        "\n",
        "while temp!=0:\n",
        "    last_digit=temp%10\n",
        "    temp=int(temp/10)\n",
        "    decimal+=last_digit*base_value\n",
        "    base_value=base_value*2\n",
        "print(\"The value of binary number\",num,\"in decimal is\",decimal)\n"
      ],
      "execution_count": 2,
      "outputs": [
        {
          "output_type": "stream",
          "text": [
            "Enter binary value of a number: 150\n",
            "The value of binary number 150 in decimal is 14\n"
          ],
          "name": "stdout"
        }
      ]
    },
    {
      "cell_type": "markdown",
      "metadata": {
        "id": "BQKiLwa3yNNY",
        "colab_type": "text"
      },
      "source": [
        "2. Generate first N number of Fibonacci numbers. Take N value from user "
      ]
    },
    {
      "cell_type": "code",
      "metadata": {
        "id": "CrXAESqRyOAQ",
        "colab_type": "code",
        "colab": {
          "base_uri": "https://localhost:8080/",
          "height": 221
        },
        "outputId": "c250e118-6912-4516-ef53-a5ac6505bc8b"
      },
      "source": [
        "n= int(input(\"Enter the value of n: \"))\n",
        "n1, n2 = 0,1 \n",
        "count=0\n",
        "print(\"Fibonacci Sequence upto\",n,\"terms is: \")\n",
        "while count<n:\n",
        "    print(n1)\n",
        "    nth=n1+n2\n",
        "    n1=n2\n",
        "    n2=nth\n",
        "    count+=1"
      ],
      "execution_count": 3,
      "outputs": [
        {
          "output_type": "stream",
          "text": [
            "Enter the value of n: 10\n",
            "Fibonacci Sequence upto 10 terms is: \n",
            "0\n",
            "1\n",
            "1\n",
            "2\n",
            "3\n",
            "5\n",
            "8\n",
            "13\n",
            "21\n",
            "34\n"
          ],
          "name": "stdout"
        }
      ]
    },
    {
      "cell_type": "code",
      "metadata": {
        "id": "QgIHtD4nydgn",
        "colab_type": "code",
        "colab": {}
      },
      "source": [
        "3. Display multiplication table of K. Take k value from user "
      ],
      "execution_count": null,
      "outputs": []
    },
    {
      "cell_type": "code",
      "metadata": {
        "id": "g3XVOrf-yov0",
        "colab_type": "code",
        "colab": {
          "base_uri": "https://localhost:8080/",
          "height": 221
        },
        "outputId": "5905d1ff-0435-48a0-be7a-e31b84de8ece"
      },
      "source": [
        "k=int(input(\"Enter the number to print multiplication table: \"))\n",
        "print(\"multiplication table:\")\n",
        "for i in range(1,11):\n",
        "    print(k,\"*\",i,\"=\",k*i)"
      ],
      "execution_count": 4,
      "outputs": [
        {
          "output_type": "stream",
          "text": [
            "Enter the number to print multiplication table: 9\n",
            "multiplication table:\n",
            "9 * 1 = 9\n",
            "9 * 2 = 18\n",
            "9 * 3 = 27\n",
            "9 * 4 = 36\n",
            "9 * 5 = 45\n",
            "9 * 6 = 54\n",
            "9 * 7 = 63\n",
            "9 * 8 = 72\n",
            "9 * 9 = 81\n",
            "9 * 10 = 90\n"
          ],
          "name": "stdout"
        }
      ]
    },
    {
      "cell_type": "markdown",
      "metadata": {
        "id": "XsEunu59y2gB",
        "colab_type": "text"
      },
      "source": [
        "4. Take 10 integers from keyboard using loop and print their average value on the screen Print the following patterns using loop :"
      ]
    },
    {
      "cell_type": "code",
      "metadata": {
        "id": "8hHGmqYiy7Ow",
        "colab_type": "code",
        "colab": {
          "base_uri": "https://localhost:8080/",
          "height": 85
        },
        "outputId": "1a78ec46-3134-40e6-9bcf-23656a2d5045"
      },
      "source": [
        "rows = 4\n",
        "for row in range(1, rows+1):\n",
        "    for column in range(1, row + 1):\n",
        "        print(\"*\", end=\"\")\n",
        "    print(\"\")\n"
      ],
      "execution_count": 5,
      "outputs": [
        {
          "output_type": "stream",
          "text": [
            "*\n",
            "**\n",
            "***\n",
            "****\n"
          ],
          "name": "stdout"
        }
      ]
    },
    {
      "cell_type": "markdown",
      "metadata": {
        "id": "FEPDn_gLzMbL",
        "colab_type": "text"
      },
      "source": [
        "5. Write a program to find greatest common divisor (GCD) or highest common factor (HCF) of given two numbers. "
      ]
    },
    {
      "cell_type": "code",
      "metadata": {
        "id": "j6KZ3HkDzNZ1",
        "colab_type": "code",
        "colab": {
          "base_uri": "https://localhost:8080/",
          "height": 68
        },
        "outputId": "70dedc90-fb68-4b0b-98fc-fe8ad74700fa"
      },
      "source": [
        "import math\n",
        "a= int(input(\"Enter number 1: \"))\n",
        "b= int(input(\"Enter number 2: \"))\n",
        "print(math.gcd(a,b),\"is the GCD of\",a,\"and\",b)"
      ],
      "execution_count": 6,
      "outputs": [
        {
          "output_type": "stream",
          "text": [
            "Enter number 1: 5\n",
            "Enter number 2: 6\n",
            "1 is the GCD of 5 and 6\n"
          ],
          "name": "stdout"
        }
      ]
    },
    {
      "cell_type": "markdown",
      "metadata": {
        "id": "FUjRyIuVzikB",
        "colab_type": "text"
      },
      "source": [
        "6. Program that accepts a word from the user and reverses it."
      ]
    },
    {
      "cell_type": "code",
      "metadata": {
        "id": "_oPzg0u-zlTI",
        "colab_type": "code",
        "colab": {
          "base_uri": "https://localhost:8080/",
          "height": 51
        },
        "outputId": "c408c472-e840-4809-a4bf-3cfdf67654fe"
      },
      "source": [
        "word=input(\"Enter a word: \")\n",
        "reverse= word[::-1]\n",
        "print(\"Reverse of\",word,\"is\",reverse)"
      ],
      "execution_count": 7,
      "outputs": [
        {
          "output_type": "stream",
          "text": [
            "Enter a word: BAND BANG\n",
            "Reverse of BAND BANG is GNAB DNAB\n"
          ],
          "name": "stdout"
        }
      ]
    },
    {
      "cell_type": "markdown",
      "metadata": {
        "id": "OqRJIu2HzvlC",
        "colab_type": "text"
      },
      "source": [
        "7. Program to count the number of even and odd numbers from a series of numbers."
      ]
    },
    {
      "cell_type": "code",
      "metadata": {
        "id": "hfFhviGGzy7Y",
        "colab_type": "code",
        "colab": {
          "base_uri": "https://localhost:8080/",
          "height": 85
        },
        "outputId": "a70e1bd5-54b2-4743-dd68-41ba793e71cc"
      },
      "source": [
        "start=int(input(\"Enter the starting number of the sequence: \"))\n",
        "end=int(input(\"Enter the ending number of the sequence: \"))\n",
        "count_even=0\n",
        "count_odd=0\n",
        "for num in range(start,end+1):\n",
        "    if num%2==0:\n",
        "        count_even+=1\n",
        "    else:\n",
        "        count_odd+=1\n",
        "print(\"The number of even numbers:\",count_even)\n",
        "print(\"The number of odd numbers\",count_odd)"
      ],
      "execution_count": 8,
      "outputs": [
        {
          "output_type": "stream",
          "text": [
            "Enter the starting number of the sequence: 1\n",
            "Enter the ending number of the sequence: 99\n",
            "The number of even numbers: 49\n",
            "The number of odd numbers 50\n"
          ],
          "name": "stdout"
        }
      ]
    },
    {
      "cell_type": "markdown",
      "metadata": {
        "id": "cgWx0K4nz8Uc",
        "colab_type": "text"
      },
      "source": [
        "8. Program that prints all numbers from 0 to 6 except 3 and 6."
      ]
    },
    {
      "cell_type": "code",
      "metadata": {
        "id": "cQHrKDNOz9Um",
        "colab_type": "code",
        "colab": {
          "base_uri": "https://localhost:8080/",
          "height": 153
        },
        "outputId": "02723853-bd22-4338-c3e2-4ff9ad13970e"
      },
      "source": [
        "for num in range(0,9):\n",
        "    if num==3:\n",
        "        continue\n",
        "    print(num)\n"
      ],
      "execution_count": 10,
      "outputs": [
        {
          "output_type": "stream",
          "text": [
            "0\n",
            "1\n",
            "2\n",
            "4\n",
            "5\n",
            "6\n",
            "7\n",
            "8\n"
          ],
          "name": "stdout"
        }
      ]
    },
    {
      "cell_type": "code",
      "metadata": {
        "id": "S3wvS5wwz_9i",
        "colab_type": "code",
        "colab": {}
      },
      "source": [
        ""
      ],
      "execution_count": null,
      "outputs": []
    }
  ]
}